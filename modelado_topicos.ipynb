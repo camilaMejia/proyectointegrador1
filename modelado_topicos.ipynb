{
 "cells": [
  {
   "cell_type": "code",
   "execution_count": 1,
   "metadata": {},
   "outputs": [],
   "source": [
    "from pyspark.sql.types import *\n",
    "from pyspark.sql.functions import monotonically_increasing_id, col, expr, when, concat, lit, isnan\n",
    "from pyspark.ml.linalg import Vectors\n",
    "from pyspark.ml.regression import GeneralizedLinearRegression\n",
    "from pyspark.ml.classification import RandomForestClassifier, LogisticRegression\n",
    "from pyspark.ml.feature import VectorIndexer, VectorAssembler, StringIndexer, OneHotEncoder\n",
    "from pyspark.ml.evaluation import MulticlassClassificationEvaluator, RegressionEvaluator, BinaryClassificationEvaluator\n",
    "from pyspark.ml import Pipeline\n",
    "import pyspark"
   ]
  },
  {
   "cell_type": "code",
   "execution_count": 2,
   "metadata": {},
   "outputs": [],
   "source": [
    "#Al ejecutar esta celda se demora un poco, así que un poco de paciencia\n",
    "from pyspark.context import SparkContext\n",
    "from pyspark.sql.session import SparkSession\n",
    "sc = SparkContext('local', \"Articles_topic_model\") \n",
    "spark = SparkSession(sc)"
   ]
  },
  {
   "cell_type": "code",
   "execution_count": 3,
   "metadata": {},
   "outputs": [],
   "source": [
    "#dfArticles = spark.read.format(\"csv\").option(\"delimiter\", \",\").option(\"header\",True).option(\"encoding\", \"UTF-8\").load(\"file:///home/ubuntu/3ra_entrega_pyto_integrador/datasets/articles.csv\")\n",
    "#dfArticles.show(10)"
   ]
  },
  {
   "cell_type": "code",
   "execution_count": 4,
   "metadata": {},
   "outputs": [
    {
     "name": "stdout",
     "output_type": "stream",
     "text": [
      "+--------------------+--------------------+--------------------+--------------------+--------------------+\n",
      "|          identifier|               title|         description|             subject|             creator|\n",
      "+--------------------+--------------------+--------------------+--------------------+--------------------+\n",
      "|http://arxiv.org/...|Smooth R\\'enyi En...|  We prove that t...|Quantum Physics ;...|Schoenmakers, Ber...|\n",
      "|http://arxiv.org/...|Analyzing Design ...|  In the field of...|Computer Science ...|Brust, Matthias R...|\n",
      "|http://arxiv.org/...|Colour image segm...|  We propose a ne...|Computer Science ...|Kay, David A ; To...|\n",
      "|http://arxiv.org/...|Unequal Error Pro...|  An information ...|Computer Science ...|Borade, Shashi ; ...|\n",
      "|http://arxiv.org/...|On the hitting ti...|  In this paper w...|Quantum Physics ;...|Magniez, Frederic...|\n",
      "|http://arxiv.org/...|Coding Theory and...|  This chapter in...|Mathematics - Com...|   Huber, Michael ; |\n",
      "|http://arxiv.org/...|Generating Random...|  Random graph ge...|Computer Science ...|Bayati, Mohsen ; ...|\n",
      "|http://arxiv.org/...|Variations on a t...|  Schalkwijk and ...|Computer Science ...|Gallager, Robert ...|\n",
      "|http://arxiv.org/...|Rotation Distance...|  Rotation distan...|Computer Science ...|Cleary, Sean ; Jo...|\n",
      "|http://arxiv.org/...|A Linear-Time App...|  Rotation distan...|Computer Science ...|Cleary, Sean ; Jo...|\n",
      "+--------------------+--------------------+--------------------+--------------------+--------------------+\n",
      "only showing top 10 rows\n",
      "\n"
     ]
    }
   ],
   "source": [
    "dfArticles=spark.read.csv(\"file:///home/ubuntu/3ra_entrega_pyto_integrador/datasets/articles.csv\", inferSchema=True, header=True, encoding=\"UTF-8\")\n",
    "dfArticles.show(10)"
   ]
  },
  {
   "cell_type": "code",
   "execution_count": 21,
   "metadata": {},
   "outputs": [],
   "source": [
    "def countWords(record):\n",
    "    textTitle  = record[1]\n",
    "    textDescription = record[2]\n",
    "    textCombined = textTitle + \" \" + textDescription\n",
    "    words = textCombined.split()\n",
    "    longitudTexto=len(words)\n",
    "    print(\"Longitud: {}\".format(str(longitudTexto)))\n",
    "    return str(longitudTexto)\n",
    "\n",
    "udf_countWords = udf(countWords, ArrayType(StringType()))\n",
    "dfcountWords = dfArticles.withColumn(\"countWords\", udf_countWords(struct([dfArticles[x] for x in dfArticles.columns])))\n",
    "\n",
    "#Pendiente\n",
    "#Verificar por qué no está realizando el conteo de las palabras de título y descripción"
   ]
  },
  {
   "cell_type": "code",
   "execution_count": 22,
   "metadata": {},
   "outputs": [
    {
     "name": "stdout",
     "output_type": "stream",
     "text": [
      "+--------------------+--------------------+--------------------+--------------------+--------------------+----------+\n",
      "|          identifier|               title|         description|             subject|             creator|countWords|\n",
      "+--------------------+--------------------+--------------------+--------------------+--------------------+----------+\n",
      "|http://arxiv.org/...|Smooth R\\'enyi En...|  We prove that t...|Quantum Physics ;...|Schoenmakers, Ber...|      null|\n",
      "|http://arxiv.org/...|Analyzing Design ...|  In the field of...|Computer Science ...|Brust, Matthias R...|      null|\n",
      "|http://arxiv.org/...|Colour image segm...|  We propose a ne...|Computer Science ...|Kay, David A ; To...|      null|\n",
      "|http://arxiv.org/...|Unequal Error Pro...|  An information ...|Computer Science ...|Borade, Shashi ; ...|      null|\n",
      "|http://arxiv.org/...|On the hitting ti...|  In this paper w...|Quantum Physics ;...|Magniez, Frederic...|      null|\n",
      "|http://arxiv.org/...|Coding Theory and...|  This chapter in...|Mathematics - Com...|   Huber, Michael ; |      null|\n",
      "|http://arxiv.org/...|Generating Random...|  Random graph ge...|Computer Science ...|Bayati, Mohsen ; ...|      null|\n",
      "|http://arxiv.org/...|Variations on a t...|  Schalkwijk and ...|Computer Science ...|Gallager, Robert ...|      null|\n",
      "|http://arxiv.org/...|Rotation Distance...|  Rotation distan...|Computer Science ...|Cleary, Sean ; Jo...|      null|\n",
      "|http://arxiv.org/...|A Linear-Time App...|  Rotation distan...|Computer Science ...|Cleary, Sean ; Jo...|      null|\n",
      "+--------------------+--------------------+--------------------+--------------------+--------------------+----------+\n",
      "only showing top 10 rows\n",
      "\n"
     ]
    }
   ],
   "source": [
    "dfcountWords.show(10)"
   ]
  },
  {
   "cell_type": "code",
   "execution_count": 5,
   "metadata": {},
   "outputs": [
    {
     "name": "stdout",
     "output_type": "stream",
     "text": [
      "+--------------------+--------------------+--------------------+\n",
      "|          identifier|               title|         description|\n",
      "+--------------------+--------------------+--------------------+\n",
      "|http://arxiv.org/...|Smooth R\\'enyi En...|  We prove that t...|\n",
      "|http://arxiv.org/...|Analyzing Design ...|  In the field of...|\n",
      "|http://arxiv.org/...|Colour image segm...|  We propose a ne...|\n",
      "|http://arxiv.org/...|Unequal Error Pro...|  An information ...|\n",
      "|http://arxiv.org/...|On the hitting ti...|  In this paper w...|\n",
      "|http://arxiv.org/...|Coding Theory and...|  This chapter in...|\n",
      "|http://arxiv.org/...|Generating Random...|  Random graph ge...|\n",
      "|http://arxiv.org/...|Variations on a t...|  Schalkwijk and ...|\n",
      "|http://arxiv.org/...|Rotation Distance...|  Rotation distan...|\n",
      "|http://arxiv.org/...|A Linear-Time App...|  Rotation distan...|\n",
      "+--------------------+--------------------+--------------------+\n",
      "only showing top 10 rows\n",
      "\n"
     ]
    }
   ],
   "source": [
    "dfMainCols= dfArticles.select('identifier','title','description')\n",
    "dfMainCols.show(10)"
   ]
  },
  {
   "cell_type": "code",
   "execution_count": 6,
   "metadata": {},
   "outputs": [],
   "source": [
    "#dfArticles.unpersist(True)\n",
    "#dfArticles.show(10)"
   ]
  },
  {
   "cell_type": "code",
   "execution_count": 7,
   "metadata": {},
   "outputs": [],
   "source": [
    "from pyspark.ml.feature import HashingTF, IDF, Tokenizer, CountVectorizer\n",
    "from pyspark.sql.types import *\n",
    "from pyspark.sql.functions import *\n",
    "from pyspark.ml.linalg import Vectors, SparseVector\n",
    "from pyspark.ml.clustering import LDA, BisectingKMeans\n",
    "#from pyspark.sql.functions import monotonically_increasing_id\n",
    "import re"
   ]
  },
  {
   "cell_type": "code",
   "execution_count": 8,
   "metadata": {},
   "outputs": [],
   "source": [
    "import nltk\n",
    "import pandas as pd\n",
    "import numpy as np\n",
    "import codecs\n",
    "import matplotlib.pyplot as plt"
   ]
  },
  {
   "cell_type": "code",
   "execution_count": 23,
   "metadata": {},
   "outputs": [],
   "source": [
    "# Default list of Stopwords\n",
    "stopwords_core = ['a', u'about', u'above', u'after', u'again', u'against', u'all', u'am', u'an', u'and', u'any', \n",
    "                  u'are', u'arent', u'as', u'at', u'be', u'because', u'been', u'before', u'being', u'below', \n",
    "                  u'between', u'both', u'but', u'by',     u'can', 'cant', 'come', u'could', 'couldnt',u'd', u'did', \n",
    "                  u'didn', u'do', u'does', u'doesnt', u'doing', u'dont', u'down', u'during', u'each', u'few', u'finally', \n",
    "                  u'for', u'from', u'further', u'had', u'hadnt', u'has', u'hasnt', u'have', u'havent', u'having', u'he', \n",
    "                  u'her', u'here', u'hers', u'herself', u'him', u'himself', u'his', u'how', u'i', u'if', u'in', u'into', \n",
    "                  u'is', u'isnt', u'it', u'its', u'itself', u'just', u'll',u'm', u'me', u'might', u'more', u'most', u'must',\n",
    "                  u'my', u'myself', u'no', u'nor', u'not', u'now', u'o', u'of', u'off', u'on', u'once', u'only', u'or', \n",
    "                  u'other', u'our', u'ours', u'ourselves', u'out', u'over', u'own', u'r', u're', u's', 'said', u'same', \n",
    "                  u'she', u'should', u'shouldnt', u'so', u'some', u'such', u't', u'than', u'that', 'thats', u'the', u'their',\n",
    "                  u'theirs', u'them', u'themselves', u'then', u'there', u'these', u'they', u'this', u'those', u'through', \n",
    "                  u'to', u'too', u'under', u'until', u'up',u'very', u'was', u'wasnt', u'we', u'were', u'werent', u'what', \n",
    "                  u'when', u'where', u'which', u'while', u'who', u'whom', u'why', u'will', u'with', u'wont', u'would', u'y', \n",
    "                  u'you', u'your', u'yours', u'yourself', u'yourselves']\n",
    "    \n",
    "# Custom List of Stopwords - Add your own here\n",
    "stopwords_custom = ['']\n",
    "stopwords = stopwords_core + stopwords_custom\n",
    "stopwords = [word.lower() for word in stopwords] \n",
    "\n",
    "def cleanup_text(record):\n",
    "    textTitle  = record[1]\n",
    "    textDescription = record[2]\n",
    "    textCombined = textTitle + \" \" + textDescription\n",
    "    words = textCombined.split()\n",
    "    # Remove special characters\n",
    "    text_out = [re.sub('[^a-zA-Z]',' ',word) for word in words]                                   \n",
    "    text_out = [re.sub(' +',' ',word) for word in words] \n",
    "    # Remove stopwords and words under X length\n",
    "    text_out = [word.lower() for word in text_out if len(word)>2 and word.lower() not in stopwords] \n",
    "    return text_out\n",
    "\n",
    "#def cleanup_description(record):\n",
    "#    text  = record[2]\n",
    "#    words = text.split()\n",
    "#    # Remove special characters\n",
    "#    text_out = [re.sub('[^a-zA-Z]','',word) for word in words]                                   \n",
    "#    # Remove stopwords and words under X length\n",
    "#    text_out = [word.lower() for word in text_out if len(word)>2 and word.lower() not in stopwords] \n",
    "#    return text_out\n",
    "\n",
    "\n",
    "def cleanup_filename(record):\n",
    "    text  = record[0]\n",
    "    #listFile = text.split(\"/\")\n",
    "    text_out = text\n",
    "    return text_out"
   ]
  },
  {
   "cell_type": "code",
   "execution_count": 24,
   "metadata": {},
   "outputs": [],
   "source": [
    "udf_tokensCombined = udf(cleanup_text, ArrayType(StringType()))\n",
    "dfCombined = dfMainCols.withColumn(\"tokensCombined\", udf_tokensCombined(struct([dfMainCols[x] for x in dfMainCols.columns])))   \n",
    "\n",
    "#udf_tokensDescription = udf(cleanup_description, ArrayType(StringType()))\n",
    "#dfDescription = dfMainCols.withColumn(\"tokensDescription\", udf_tokensDescription(struct([dfMainCols[x] for x in dfMainCols.columns]))) "
   ]
  },
  {
   "cell_type": "code",
   "execution_count": 25,
   "metadata": {},
   "outputs": [],
   "source": [
    "# Está pendiente de extraer el nombre del archivo, que corresponde a los nueve caracteres a la derecha del campo\n",
    "# identifier\n",
    "#\n",
    "#udf_filename = udf(cleanup_filename, ArrayType(StringType()))\n",
    "#dfFilename1 = dfMainCols.withColumn(\"File\", udf_filename(struct([dfMainCols[x] for x in dfMainCols.columns])))   "
   ]
  },
  {
   "cell_type": "code",
   "execution_count": 26,
   "metadata": {},
   "outputs": [
    {
     "name": "stdout",
     "output_type": "stream",
     "text": [
      "+--------------------+--------------------+--------------------+--------------------+\n",
      "|          identifier|               title|         description|      tokensCombined|\n",
      "+--------------------+--------------------+--------------------+--------------------+\n",
      "|http://arxiv.org/...|Smooth R\\'enyi En...|  We prove that t...|[smooth, r\\'enyi,...|\n",
      "|http://arxiv.org/...|Analyzing Design ...|  In the field of...|[analyzing, desig...|\n",
      "|http://arxiv.org/...|Colour image segm...|  We propose a ne...|[colour, image, s...|\n",
      "|http://arxiv.org/...|Unequal Error Pro...|  An information ...|[unequal, error, ...|\n",
      "|http://arxiv.org/...|On the hitting ti...|  In this paper w...|[hitting, times, ...|\n",
      "|http://arxiv.org/...|Coding Theory and...|  This chapter in...|[coding, theory, ...|\n",
      "|http://arxiv.org/...|Generating Random...|  Random graph ge...|[generating, rand...|\n",
      "|http://arxiv.org/...|Variations on a t...|  Schalkwijk and ...|[variations, them...|\n",
      "|http://arxiv.org/...|Rotation Distance...|  Rotation distan...|[rotation, distan...|\n",
      "|http://arxiv.org/...|A Linear-Time App...|  Rotation distan...|[linear-time, app...|\n",
      "+--------------------+--------------------+--------------------+--------------------+\n",
      "only showing top 10 rows\n",
      "\n"
     ]
    }
   ],
   "source": [
    "dfCombined.show(10)"
   ]
  },
  {
   "cell_type": "code",
   "execution_count": 29,
   "metadata": {},
   "outputs": [],
   "source": [
    "# Term Frequency Vectorization  - Option 2 (CountVectorizer)    : \n",
    "cvTokensCombined = CountVectorizer(inputCol=\"tokensCombined\", outputCol=\"rawFeatures\", vocabSize = 30000)\n",
    "cvmodel = cvTokensCombined.fit(dfCombined)\n",
    "featurizedData = cvmodel.transform(dfCombined)\n",
    "\n",
    "vocab = cvmodel.vocabulary\n",
    "vocab_broadcast = sc.broadcast(vocab)\n",
    "\n",
    "idf = IDF(inputCol=\"rawFeatures\", outputCol=\"features\")\n",
    "idfModel = idf.fit(featurizedData)\n",
    "rescaledData = idfModel.transform(featurizedData)"
   ]
  },
  {
   "cell_type": "code",
   "execution_count": 30,
   "metadata": {},
   "outputs": [
    {
     "name": "stdout",
     "output_type": "stream",
     "text": [
      "+-----+--------------------+--------------------+\n",
      "|topic|         termIndices|         termWeights|\n",
      "+-----+--------------------+--------------------+\n",
      "|    0|[465, 3, 7, 116, ...|[0.00565330534278...|\n",
      "|    1|[1025, 210, 671, ...|[0.00556476098788...|\n",
      "|    2|[10, 110, 728, 60...|[0.00424725004773...|\n",
      "|    3|[142, 3, 658, 27,...|[0.00437888825581...|\n",
      "|    4|[309, 254, 13, 11...|[0.00631802624221...|\n",
      "|    5|[112, 388, 51, 73...|[0.00621866499421...|\n",
      "|    6|[190, 145, 606, 1...|[0.00413189548241...|\n",
      "|    7|[89, 81, 566, 170...|[0.00429623292511...|\n",
      "|    8|[3, 1888, 845, 10...|[0.00459273344608...|\n",
      "|    9|[0, 145, 536, 981...|[0.00480623722493...|\n",
      "|   10|[57, 1648, 3, 506...|[0.00793019693388...|\n",
      "|   11|[13, 35, 233, 626...|[0.00442047813191...|\n",
      "|   12|[584, 345, 916, 5...|[0.00667728003403...|\n",
      "|   13|[1043, 237, 73, 1...|[0.00392779860293...|\n",
      "|   14|[18, 292, 1008, 4...|[0.00864784909908...|\n",
      "|   15|[227, 174, 175, 4...|[0.00380430206751...|\n",
      "|   16|[321, 286, 808, 8...|[0.00614506469934...|\n",
      "|   17|[13, 35, 151, 474...|[0.00944805249995...|\n",
      "|   18|[1483, 328, 631, ...|[0.00402997870025...|\n",
      "|   19|[116, 1341, 917, ...|[0.00472542137151...|\n",
      "+-----+--------------------+--------------------+\n",
      "\n"
     ]
    }
   ],
   "source": [
    "# Generate 20 Data-Driven Topics:\n",
    "lda = LDA(k=20, seed=123, optimizer=\"em\", featuresCol=\"features\")\n",
    "\n",
    "ldamodel = lda.fit(rescaledData)\n",
    "\n",
    "#model.isDistributed()\n",
    "#model.vocabSize()\n",
    "\n",
    "ldatopics = ldamodel.describeTopics()\n",
    "ldatopics.show(20)"
   ]
  },
  {
   "cell_type": "code",
   "execution_count": 31,
   "metadata": {},
   "outputs": [
    {
     "name": "stdout",
     "output_type": "stream",
     "text": [
      "+-----+-------------------------------------------------------------------------------------------------------+\n",
      "|topic|topic_desc                                                                                             |\n",
      "+-----+-------------------------------------------------------------------------------------------------------+\n",
      "|0    |[video, data, model, selection, cancer, function, problem, linear, circuits, subspace]                 |\n",
      "|1    |[rmt, neural, estimator, testing, network, spectral, networks, signal, facial, change]                 |\n",
      "|2    |[time, control, grid, systems, type, semidefinite, dynamic, classical, problem, optimal]               |\n",
      "|3    |[matrices, data, biological, networks, parsimonious, matrix, training, bayesian, curves, mixture]      |\n",
      "|4    |[stable, edges, graph, dfs, mechanism, approximation, algorithm, counter-party, polytopes, design]     |\n",
      "|5    |[sparse, automata, matrix, codes, finite, words, error, noiselet, decoding, measurement]               |\n",
      "|6    |[agents, energy, load, proteome, spectrum, learning, algorithm, strategy, information, hiding]         |\n",
      "|7    |[power, error, feedback, cuda, salient, 2-d, phase, new, data, loss]                                   |\n",
      "|8    |[data, rotation, smooth, time, mining, shadow, algebraic, safe, points, belief,]                       |\n",
      "|9    |[algorithm, energy, kernel, tropical, algorithms, method, multiplicative, complexity, lattice, time]   |\n",
      "|10   |[quantum, tree-cut, data, policy, secure, statistics, drift, malware, unitary, time]                   |\n",
      "|11   |[graph, graphs, recovery, compressed, discrete, sensing, $g$, submodular, test, algorithm]             |\n",
      "|12   |[relay, mimo, dof, quantum, channel, node, interference, navigable, alignment, two-way]                |\n",
      "|13   |[magnetic, binary, codes, manga, scheme, algorithm, fitness, functions, privacy, recording]            |\n",
      "|14   |[information, entropy, observer, inference, gabidulin, quantum, planted, diffusion, convex, social]    |\n",
      "|15   |[training, classification, convergence, learning, machine, traffic, social, model, data, steiner]      |\n",
      "|16   |[sensor, community, modularity, overlapping, protocols, control, protocol, circuit, distributed, nodes]|\n",
      "|17   |[graph, graphs, $g$, coloring, cubic, edge, connected, induced, total, graphs.]                        |\n",
      "|18   |[arxiv, influence, content, social, polar, privacy, games, cooperative, rna, structured]               |\n",
      "|19   |[selection, modal, labels, temporal, chaotic, group, seed, logic, refinement, predictors]              |\n",
      "+-----+-------------------------------------------------------------------------------------------------------+\n",
      "\n"
     ]
    }
   ],
   "source": [
    "def map_termID_to_Word(termIndices):\n",
    "    words = []\n",
    "    for termID in termIndices:\n",
    "        words.append(vocab_broadcast.value[termID])\n",
    "    \n",
    "    return words\n",
    "\n",
    "udf_map_termID_to_Word = udf(map_termID_to_Word , ArrayType(StringType()))\n",
    "ldatopics_mapped = ldatopics.withColumn(\"topic_desc\", udf_map_termID_to_Word(ldatopics.termIndices))\n",
    "ldatopics_mapped.select(ldatopics_mapped.topic, ldatopics_mapped.topic_desc).show(50,False)"
   ]
  },
  {
   "cell_type": "code",
   "execution_count": 33,
   "metadata": {},
   "outputs": [
    {
     "name": "stdout",
     "output_type": "stream",
     "text": [
      "+--------------------+--------------------+--------------------+--------------------+--------------------+--------------------+\n",
      "|          identifier|               title|         description|      tokensCombined|            features|   topicDistribution|\n",
      "+--------------------+--------------------+--------------------+--------------------+--------------------+--------------------+\n",
      "|http://arxiv.org/...|Smooth R\\'enyi En...|  We prove that t...|[smooth, r\\'enyi,...|(18042,[18,30,40,...|[0.02302087209979...|\n",
      "|http://arxiv.org/...|Analyzing Design ...|  In the field of...|[analyzing, desig...|(18042,[8,12,14,1...|[0.01172652669764...|\n",
      "|http://arxiv.org/...|Colour image segm...|  We propose a ne...|[colour, image, s...|(18042,[1,3,6,7,1...|[0.01616681587956...|\n",
      "|http://arxiv.org/...|Unequal Error Pro...|  An information ...|[unequal, error, ...|(18042,[4,14,18,5...|[0.01283407763124...|\n",
      "|http://arxiv.org/...|On the hitting ti...|  In this paper w...|[hitting, times, ...|(18042,[0,2,4,6,8...|[0.00925278479824...|\n",
      "|http://arxiv.org/...|Coding Theory and...|  This chapter in...|[coding, theory, ...|(18042,[14,36,53,...|[0.01636847167334...|\n",
      "|http://arxiv.org/...|Generating Random...|  Random graph ge...|[generating, rand...|(18042,[0,4,6,11,...|[0.01209092774939...|\n",
      "|http://arxiv.org/...|Variations on a t...|  Schalkwijk and ...|[variations, them...|(18042,[6,34,47,5...|[0.01007852093399...|\n",
      "|http://arxiv.org/...|Rotation Distance...|  Rotation distan...|[rotation, distan...|(18042,[2,5,8,11,...|[0.01665579686765...|\n",
      "|http://arxiv.org/...|A Linear-Time App...|  Rotation distan...|[linear-time, app...|(18042,[0,5,11,19...|[0.01932193198920...|\n",
      "|http://arxiv.org/...|The quantum query...|  We study the qu...|[quantum, query, ...|(18042,[2,16,23,3...|[0.01747828773910...|\n",
      "|http://arxiv.org/...|On uncertainty pr...|  The aim of this...|[uncertainty, pri...|(18042,[2,4,8,10,...|[0.02551427982040...|\n",
      "|http://arxiv.org/...|Error-and-Erasure...|  Inner and outer...|[error-and-erasur...|(18042,[6,8,22,25...|[0.01180534093784...|\n",
      "|http://arxiv.org/...|Joint-sparse reco...|  The joint-spars...|[joint-sparse, re...|(18042,[0,1,2,5,6...|[0.02291474529640...|\n",
      "|http://arxiv.org/...|Inter Genre Simil...|  Music genre cla...|[inter, genre, si...|(18042,[8,12,14,1...|[0.01044658528269...|\n",
      "|http://arxiv.org/...|       P != NP Proof|  This paper demo...|[proof, paper, de...|(18042,[1,12,28,5...|[0.00981237263432...|\n",
      "|http://arxiv.org/...|Universally Compo...|  The Universal C...|[universally, com...|(18042,[2,4,7,22,...|[0.01361950456118...|\n",
      "|http://arxiv.org/...|On the stability ...|  We consider fiv...|[stability, two-c...|(18042,[2,8,11,14...|[0.01771696653719...|\n",
      "|http://arxiv.org/...|MAC Layer Hurdles...|  The last few de...|[mac, layer, hurd...|(18042,[4,5,12,21...|[0.01135967124801...|\n",
      "|http://arxiv.org/...|On the Developmen...|  Current advance...|[development, low...|(18042,[9,22,27,2...|[0.01100252173358...|\n",
      "+--------------------+--------------------+--------------------+--------------------+--------------------+--------------------+\n",
      "only showing top 20 rows\n",
      "\n"
     ]
    }
   ],
   "source": [
    "ldaResults = ldamodel.transform(rescaledData)\n",
    "\n",
    "ldaResults.select('identifier','title','description','tokensCombined','features','topicDistribution').show()"
   ]
  },
  {
   "cell_type": "code",
   "execution_count": null,
   "metadata": {},
   "outputs": [],
   "source": []
  }
 ],
 "metadata": {
  "kernelspec": {
   "display_name": "Python 3",
   "language": "python",
   "name": "python3"
  },
  "language_info": {
   "codemirror_mode": {
    "name": "ipython",
    "version": 3
   },
   "file_extension": ".py",
   "mimetype": "text/x-python",
   "name": "python",
   "nbconvert_exporter": "python",
   "pygments_lexer": "ipython3",
   "version": "3.6.8"
  }
 },
 "nbformat": 4,
 "nbformat_minor": 2
}
